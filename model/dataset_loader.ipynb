{
 "cells": [
  {
   "cell_type": "code",
   "execution_count": 1,
   "metadata": {},
   "outputs": [],
   "source": [
    "# fluidsynth glitches?????"
   ]
  },
  {
   "cell_type": "code",
   "execution_count": 1,
   "metadata": {},
   "outputs": [
    {
     "name": "stdout",
     "output_type": "stream",
     "text": [
      "['LICENSE', 'test', 'hvo_sequence', 'README.md', 'setup.py', '.gitignore', '.git', '.vscode', '.idea']\n"
     ]
    }
   ],
   "source": [
    "import torch \n",
    "from torch.utils.data import Dataset\n",
    "import pandas as pd\n",
    "import os\n",
    "import pickle\n",
    "import sys\n",
    "\n",
    "sys.path.append('../')\n",
    "\n",
    "import numpy as np\n",
    "from copy import deepcopy\n",
    "import json\n",
    "from datetime import datetime\n",
    "import itertools\n",
    "\n",
    "from onsets import input_features_extractor"
   ]
  },
  {
   "cell_type": "code",
   "execution_count": 5,
   "metadata": {},
   "outputs": [],
   "source": [
    "filters = {\n",
    "    \"drummer\" : None,\n",
    "    \"session\" : None,\n",
    "    \"loop_id\" : None, \n",
    "    \"master_id\" : \"drummer1/eval_session/10\",\n",
    "    \"style_primary\" : None,\n",
    "    \"bpm\"  : None,\n",
    "    \"beat_type\" :None,\n",
    "    \"time_signature\" : None,\n",
    "    \"full_midi_filename\"  : None,\n",
    "    \"full_audio_filename\": None\n",
    "}\n",
    "\n",
    "sr = 44100\n",
    "FRAME_INTERVAL = 0.01\n",
    "hop_length =  int(round(FRAME_INTERVAL * sr))\n",
    "\n",
    "input_features_parameters = {\n",
    "    \"sr\" : sr,\n",
    "    \"n_fft\" : 1024,\n",
    "    \"win_length\" : 1024,\n",
    "    \"hop_length\" : hop_length,\n",
    "    \"n_bins_per_octave\" : 16,\n",
    "    \"n_octaves\" : 9,\n",
    "    \"f_min\" : 40,\n",
    "    \"mean_filter_size\" : 22,\n",
    "    \"n_bars\" : 2, \n",
    "    \"time_signature_numerator\" : 4, \n",
    "    \"time_signature_denominator\" : 4, \n",
    "    \"beat_division_factors\" : [4]\n",
    "}"
   ]
  },
  {
   "cell_type": "code",
   "execution_count": 6,
   "metadata": {},
   "outputs": [],
   "source": [
    "def check_if_passes_filters(obj,filters):\n",
    "    for key in filters:\n",
    "        if filters[key] is not None and obj.to_dict()[key] != filters[key]:\n",
    "            return False\n",
    "    return True\n",
    "\n",
    "class GrooveMidiDataset(Dataset):\n",
    "    def __init__(self,\n",
    "                source_path = '../../preprocessed_dataset/datasets_extracted_locally/GrooveMidi/hvo_0.3.0/Processed_On_13_05_2021_at_12_56_hrs',\n",
    "                subset = 'GrooveMIDI_processed_test',\n",
    "                metadata_csv_filename='metadata.csv',\n",
    "                hvo_pickle_filename='hvo_sequence_data.obj',\n",
    "                filters=filters,\n",
    "                input_features_parameters=input_features_parameters,\n",
    "                sf_path = \"../soundfonts/filtered_soundfonts/\",\n",
    "                max_len = 32,\n",
    "                voice_idx = [0,1,5,7],\n",
    "                n_voices_to_remove = 3,\n",
    "                max_items = 1000,\n",
    "                dataset_name = None\n",
    "                ):\n",
    "        \n",
    "        assert (n_voices_to_remove <= len(voice_idx)) , \"number of voices to remove can not be greater than length of voice_idx\"\n",
    "        \n",
    "        # load dataset\n",
    "        train_file = open(os.path.join(source_path, subset, hvo_pickle_filename),'rb')\n",
    "        train_set = pickle.load(train_file)\n",
    "        metadata = pd.read_csv(os.path.join(source_path, subset, metadata_csv_filename))\n",
    "        \n",
    "        # init lists to store hvo sequences and processed io \n",
    "        self.hvo_sequences=[]\n",
    "        self.processed_inputs=[]\n",
    "        self.processed_outputs=[]\n",
    "        \n",
    "        # init list with configurations\n",
    "        self.hvo_index = []\n",
    "        self.voices_reduced = []\n",
    "        self.soundfonts = []\n",
    "        \n",
    "        # list of soundfonts\n",
    "        sfs = [os.path.join(sf_path) + sf for sf in os.listdir(sf_path)]  \n",
    "        \n",
    "        \n",
    "        for hvo_idx, hvo_seq in enumerate(train_set):\n",
    "            \n",
    "            if len(hvo_seq.time_signatures) == 1: # ignore if time_signature change happens\n",
    "                \n",
    "                all_zeros = not np.any(hvo_seq.hvo.flatten())\n",
    "                \n",
    "                if not all_zeros: # ignore silent patterns\n",
    "                    if check_if_passes_filters(metadata.loc[hvo_idx], filters):\n",
    "                            \n",
    "                        #add metadata to hvo_seq scores\n",
    "                        hvo_seq.drummer = metadata.loc[hvo_idx].at[\"drummer\"]\n",
    "                        hvo_seq.session = metadata.loc[hvo_idx].at[\"session\"]\n",
    "                        hvo_seq.master_id = metadata.loc[hvo_idx].at[\"master_id\"]\n",
    "                        hvo_seq.style_primary = metadata.loc[hvo_idx].at[\"style_primary\"]\n",
    "                        hvo_seq.style_secondary = metadata.loc[hvo_idx].at[\"style_secondary\"]\n",
    "                        hvo_seq.beat_type = metadata.loc[hvo_idx].at[\"beat_type\"]\n",
    "                        hvo_seq.loop_id = metadata.loc[hvo_idx].at[\"loop_id\"]\n",
    "                        hvo_seq.bpm = metadata.loc[hvo_idx].at[\"bpm\"]\n",
    "                        \n",
    "                        # pad with zeros to match max_len\n",
    "                        pad_count = max(max_len - hvo_seq.hvo.shape[0],0)\n",
    "                        hvo_seq.hvo = np.pad(hvo_seq.hvo, ((0,pad_count), (0,0)), 'constant')\n",
    "                        hvo_seq.hvo = hvo_seq.hvo[:max_len, :] # in case seq exceeds max len\n",
    "                        self.hvo_sequences.append(hvo_seq)\n",
    "                        \n",
    "                        # voice_combinations\n",
    "                        voice_idx_comb = list(itertools.combinations(voice_idx,n_voices_to_remove))\n",
    "                        # combinations of sf and voices \n",
    "                        sf_v_comb = list(itertools.product(sfs,voice_idx_comb))\n",
    "                        \n",
    "                        if len(sf_v_comb) > max_items/len(train_set):\n",
    "                            sf_v_comb = random.choices(sf_v_comb, k=max_items)\n",
    "                            \n",
    "                        # every sf and voice combination\n",
    "                        for sf, v_idx in sf_v_comb: \n",
    "                            v_idx = list(v_idx)\n",
    "                                                        \n",
    "                            ## io processing\n",
    "                            hvo_seq_in, hvo_seq_out = hvo_seq.reset_voices(voice_idx = voice_idx)\n",
    "                            \n",
    "                            self.hvo_index.append(hvo_idx)\n",
    "                            self.voices_reduced.append(v_idx)\n",
    "                            self.soundfonts.append(sf)\n",
    "                            \n",
    "                            audio = hvo_seq_in.synthesize(sr = input_features_parameters['sr'], sf_path=sf)\n",
    "                            if len(audio) == 0 : continue # if voices removed give zero hvo\n",
    "                            input_features = input_features_extractor(audio, qpm=float(hvo_seq.bpm), \n",
    "                                                                      **input_features_parameters) \n",
    "                            self.processed_inputs.append(input_features)\n",
    "                        \n",
    "                            # processed_outputs \n",
    "                            self.processed_outputs.append(hvo_seq_out.hvo)\n",
    "                        \n",
    "\n",
    "        # store hvo index and soundfonts in csv\n",
    "        now = datetime.now()\n",
    "        dt_string = now.strftime(\"%d_%m_%Y_at_%H_%M_hrs\")\n",
    "        \n",
    "        # dataset name\n",
    "        if dataset_name is None:         \n",
    "            dataset_name = \"Dataset_\" + dt_string\n",
    "            \n",
    "        # save parameters\n",
    "        parameters_path = os.path.join('../exp_dataset', dataset_name)\n",
    "        if not os.path.exists(parameters_path): os.makedirs(parameters_path)\n",
    "        \n",
    "        parameters = {\n",
    "                      \"dataset_name\" : dataset_name,\n",
    "                      \"timestamp\" : dt_string,\n",
    "                      \"dataset_info\": {\n",
    "                          \"source_path\":source_path,\n",
    "                          \"subset\":subset,\n",
    "                          \"metadata_csv_filename\":metadata_csv_filename,\n",
    "                          \"hvo_pickle_filename\": hvo_pickle_filename,\n",
    "                          \"sf_path\": sf_path,\n",
    "                          \"filters\" : filters,\n",
    "                          \"max_len\": max_len,\n",
    "                          \"max_items\":max_items\n",
    "                      },\n",
    "                      \"input_features_parameters\" : input_features_parameters,\n",
    "                      \"voice_idx\": voice_idx,\n",
    "                      \"n_voices_to_remove\": n_voices_to_remove,\n",
    "                      \"dictionaries\": {\n",
    "                          \"hvo_index\": self.hvo_index,\n",
    "                          \"voices_reduced\":self.voices_reduced,\n",
    "                          \"soundfonts\" : self.soundfonts\n",
    "                      }\n",
    "\n",
    "                     }\n",
    "        \n",
    "        parameters_json = os.path.join(parameters_path, 'parameters.json')\n",
    "        with open(parameters_json, 'w') as f:\n",
    "            json.dump(parameters, f)\n",
    "          \n",
    "                            \n",
    "    def get_hvo_sequence(self,idx):\n",
    "        hvo_idx = self.hvo_index(idx)\n",
    "        return self.hvo_sequences[hvo_idx]\n",
    "    \n",
    "    def get_soundfont(self,idx):\n",
    "        return self.soundfont[idx]\n",
    "    \n",
    "    def get_voices_idx(self,idx):\n",
    "        return self.voices_reduced[idx]\n",
    "    \n",
    "    \n",
    "    def __len__(self):\n",
    "        return len(self.processed_inputs)\n",
    "    \n",
    "    def __getitem__(self,idx):\n",
    "        return self.processed_inputs[idx], self.processed_outputs[idx], idx\n",
    "    "
   ]
  },
  {
   "cell_type": "code",
   "execution_count": 7,
   "metadata": {},
   "outputs": [
    {
     "ename": "FileNotFoundError",
     "evalue": "[Errno 2] No such file or directory: '../test_soundfonts/good_soundfonts/'",
     "output_type": "error",
     "traceback": [
      "\u001b[0;31m---------------------------------------------------------------------------\u001b[0m",
      "\u001b[0;31mFileNotFoundError\u001b[0m                         Traceback (most recent call last)",
      "\u001b[0;32m<timed exec>\u001b[0m in \u001b[0;36m<module>\u001b[0;34m\u001b[0m\n",
      "\u001b[0;32m<ipython-input-6-a6fbfcdf5530>\u001b[0m in \u001b[0;36m__init__\u001b[0;34m(self, source_path, subset, metadata_csv_filename, hvo_pickle_filename, filters, input_features_parameters, sf_path, max_len, voice_idx, n_voices_to_remove, max_items, dataset_name)\u001b[0m\n\u001b[1;32m     39\u001b[0m \u001b[0;34m\u001b[0m\u001b[0m\n\u001b[1;32m     40\u001b[0m         \u001b[0;31m# list of soundfonts\u001b[0m\u001b[0;34m\u001b[0m\u001b[0;34m\u001b[0m\u001b[0;34m\u001b[0m\u001b[0m\n\u001b[0;32m---> 41\u001b[0;31m         \u001b[0msfs\u001b[0m \u001b[0;34m=\u001b[0m \u001b[0;34m[\u001b[0m\u001b[0mos\u001b[0m\u001b[0;34m.\u001b[0m\u001b[0mpath\u001b[0m\u001b[0;34m.\u001b[0m\u001b[0mjoin\u001b[0m\u001b[0;34m(\u001b[0m\u001b[0msf_path\u001b[0m\u001b[0;34m)\u001b[0m \u001b[0;34m+\u001b[0m \u001b[0msf\u001b[0m \u001b[0;32mfor\u001b[0m \u001b[0msf\u001b[0m \u001b[0;32min\u001b[0m \u001b[0mos\u001b[0m\u001b[0;34m.\u001b[0m\u001b[0mlistdir\u001b[0m\u001b[0;34m(\u001b[0m\u001b[0msf_path\u001b[0m\u001b[0;34m)\u001b[0m\u001b[0;34m]\u001b[0m\u001b[0;34m\u001b[0m\u001b[0;34m\u001b[0m\u001b[0m\n\u001b[0m\u001b[1;32m     42\u001b[0m \u001b[0;34m\u001b[0m\u001b[0m\n\u001b[1;32m     43\u001b[0m \u001b[0;34m\u001b[0m\u001b[0m\n",
      "\u001b[0;31mFileNotFoundError\u001b[0m: [Errno 2] No such file or directory: '../test_soundfonts/good_soundfonts/'"
     ]
    }
   ],
   "source": [
    "%%time\n",
    "gmd = GrooveMidiDataset()\n"
   ]
  },
  {
   "cell_type": "code",
   "execution_count": 1,
   "metadata": {},
   "outputs": [
    {
     "ename": "NameError",
     "evalue": "name 'os' is not defined",
     "output_type": "error",
     "traceback": [
      "\u001b[0;31m---------------------------------------------------------------------------\u001b[0m",
      "\u001b[0;31mNameError\u001b[0m                                 Traceback (most recent call last)",
      "\u001b[0;32m<ipython-input-1-13c4551a6098>\u001b[0m in \u001b[0;36m<module>\u001b[0;34m\u001b[0m\n\u001b[0;32m----> 1\u001b[0;31m \u001b[0mos\u001b[0m\u001b[0;34m.\u001b[0m\u001b[0mgetcwd\u001b[0m\u001b[0;34m(\u001b[0m\u001b[0;34m)\u001b[0m\u001b[0;34m\u001b[0m\u001b[0;34m\u001b[0m\u001b[0m\n\u001b[0m\u001b[1;32m      2\u001b[0m \u001b[0mprint\u001b[0m\u001b[0;34m(\u001b[0m\u001b[0msys\u001b[0m\u001b[0;34m.\u001b[0m\u001b[0mpath\u001b[0m\u001b[0;34m)\u001b[0m\u001b[0;34m\u001b[0m\u001b[0;34m\u001b[0m\u001b[0m\n\u001b[1;32m      3\u001b[0m \u001b[0mos\u001b[0m\u001b[0;34m.\u001b[0m\u001b[0mlistdir\u001b[0m\u001b[0;34m(\u001b[0m\u001b[0;34m'../../'\u001b[0m\u001b[0;34m)\u001b[0m\u001b[0;34m\u001b[0m\u001b[0;34m\u001b[0m\u001b[0m\n",
      "\u001b[0;31mNameError\u001b[0m: name 'os' is not defined"
     ]
    }
   ],
   "source": [
    "os.getcwd()\n",
    "print(sys.path)\n",
    "os.listdir('../../')"
   ]
  },
  {
   "cell_type": "code",
   "execution_count": 144,
   "metadata": {},
   "outputs": [
    {
     "data": {
      "text/plain": [
       "(15, 15000, 15000)"
      ]
     },
     "execution_count": 144,
     "metadata": {},
     "output_type": "execute_result"
    }
   ],
   "source": [
    "gmd.__len__()"
   ]
  },
  {
   "cell_type": "code",
   "execution_count": 116,
   "metadata": {},
   "outputs": [
    {
     "name": "stdout",
     "output_type": "stream",
     "text": [
      "900\n"
     ]
    },
    {
     "data": {
      "text/plain": [
       "100"
      ]
     },
     "execution_count": 116,
     "metadata": {},
     "output_type": "execute_result"
    }
   ],
   "source": [
    "voice_idx = np.arange(0,10)\n",
    "n_voices_to_remove = 2\n",
    "voice_idx_comb = list(itertools.combinations(voice_idx,n_voices_to_remove))\n",
    "\n",
    "sf_v_comb = list(itertools.product(sfs,voice_idx_comb))\n",
    "print(len(sf_v_comb))\n",
    "import random\n",
    "max_items = 100\n",
    "len(random.choices(sf_v_comb, k=max_items))"
   ]
  },
  {
   "cell_type": "code",
   "execution_count": 90,
   "metadata": {},
   "outputs": [
    {
     "data": {
      "text/plain": [
       "[('../test_soundfonts/good_soundfonts/GoldDrums.sf2', (0, 1)),\n",
       " ('../test_soundfonts/good_soundfonts/GoldDrums.sf2', (0, 2)),\n",
       " ('../test_soundfonts/good_soundfonts/GoldDrums.sf2', (1, 2)),\n",
       " ('../test_soundfonts/good_soundfonts/80sAcDanceDrums.sf2', (0, 1)),\n",
       " ('../test_soundfonts/good_soundfonts/80sAcDanceDrums.sf2', (0, 2)),\n",
       " ('../test_soundfonts/good_soundfonts/80sAcDanceDrums.sf2', (1, 2)),\n",
       " ('../test_soundfonts/good_soundfonts/HipHop.sf2', (0, 1)),\n",
       " ('../test_soundfonts/good_soundfonts/HipHop.sf2', (0, 2)),\n",
       " ('../test_soundfonts/good_soundfonts/HipHop.sf2', (1, 2)),\n",
       " ('../test_soundfonts/good_soundfonts/HOUSE2.sf2', (0, 1)),\n",
       " ('../test_soundfonts/good_soundfonts/HOUSE2.sf2', (0, 2)),\n",
       " ('../test_soundfonts/good_soundfonts/HOUSE2.sf2', (1, 2)),\n",
       " ('../test_soundfonts/good_soundfonts/phunked.sf2', (0, 1)),\n",
       " ('../test_soundfonts/good_soundfonts/phunked.sf2', (0, 2)),\n",
       " ('../test_soundfonts/good_soundfonts/phunked.sf2', (1, 2)),\n",
       " ('../test_soundfonts/good_soundfonts/MelottiDrums.sf2', (0, 1)),\n",
       " ('../test_soundfonts/good_soundfonts/MelottiDrums.sf2', (0, 2)),\n",
       " ('../test_soundfonts/good_soundfonts/MelottiDrums.sf2', (1, 2)),\n",
       " ('../test_soundfonts/good_soundfonts/SJDrums.sf2', (0, 1)),\n",
       " ('../test_soundfonts/good_soundfonts/SJDrums.sf2', (0, 2)),\n",
       " ('../test_soundfonts/good_soundfonts/SJDrums.sf2', (1, 2)),\n",
       " ('../test_soundfonts/good_soundfonts/insane_kit.sf2', (0, 1)),\n",
       " ('../test_soundfonts/good_soundfonts/insane_kit.sf2', (0, 2)),\n",
       " ('../test_soundfonts/good_soundfonts/insane_kit.sf2', (1, 2)),\n",
       " ('../test_soundfonts/good_soundfonts/vinylism.sf2', (0, 1)),\n",
       " ('../test_soundfonts/good_soundfonts/vinylism.sf2', (0, 2)),\n",
       " ('../test_soundfonts/good_soundfonts/vinylism.sf2', (1, 2)),\n",
       " ('../test_soundfonts/good_soundfonts/DrumsBySlavo v1.0.sf2', (0, 1)),\n",
       " ('../test_soundfonts/good_soundfonts/DrumsBySlavo v1.0.sf2', (0, 2)),\n",
       " ('../test_soundfonts/good_soundfonts/DrumsBySlavo v1.0.sf2', (1, 2)),\n",
       " ('../test_soundfonts/good_soundfonts/7mb_vinyl_drums1.sf2', (0, 1)),\n",
       " ('../test_soundfonts/good_soundfonts/7mb_vinyl_drums1.sf2', (0, 2)),\n",
       " ('../test_soundfonts/good_soundfonts/7mb_vinyl_drums1.sf2', (1, 2)),\n",
       " ('../test_soundfonts/good_soundfonts/ROCK.sf2', (0, 1)),\n",
       " ('../test_soundfonts/good_soundfonts/ROCK.sf2', (0, 2)),\n",
       " ('../test_soundfonts/good_soundfonts/ROCK.sf2', (1, 2)),\n",
       " ('../test_soundfonts/good_soundfonts/PremierKit.sf2', (0, 1)),\n",
       " ('../test_soundfonts/good_soundfonts/PremierKit.sf2', (0, 2)),\n",
       " ('../test_soundfonts/good_soundfonts/PremierKit.sf2', (1, 2)),\n",
       " ('../test_soundfonts/good_soundfonts/Industromatic.sf2', (0, 1)),\n",
       " ('../test_soundfonts/good_soundfonts/Industromatic.sf2', (0, 2)),\n",
       " ('../test_soundfonts/good_soundfonts/Industromatic.sf2', (1, 2)),\n",
       " ('../test_soundfonts/good_soundfonts/outlaw.sf2', (0, 1)),\n",
       " ('../test_soundfonts/good_soundfonts/outlaw.sf2', (0, 2)),\n",
       " ('../test_soundfonts/good_soundfonts/outlaw.sf2', (1, 2)),\n",
       " ('../test_soundfonts/good_soundfonts/DRRP_RocketDrums.sf2', (0, 1)),\n",
       " ('../test_soundfonts/good_soundfonts/DRRP_RocketDrums.sf2', (0, 2)),\n",
       " ('../test_soundfonts/good_soundfonts/DRRP_RocketDrums.sf2', (1, 2)),\n",
       " ('../test_soundfonts/good_soundfonts/kraze_kit.sf2', (0, 1)),\n",
       " ('../test_soundfonts/good_soundfonts/kraze_kit.sf2', (0, 2)),\n",
       " ('../test_soundfonts/good_soundfonts/kraze_kit.sf2', (1, 2)),\n",
       " ('../test_soundfonts/good_soundfonts/ElectricKit.sf2', (0, 1)),\n",
       " ('../test_soundfonts/good_soundfonts/ElectricKit.sf2', (0, 2)),\n",
       " ('../test_soundfonts/good_soundfonts/ElectricKit.sf2', (1, 2)),\n",
       " ('../test_soundfonts/good_soundfonts/hyped_kit.sf2', (0, 1)),\n",
       " ('../test_soundfonts/good_soundfonts/hyped_kit.sf2', (0, 2)),\n",
       " ('../test_soundfonts/good_soundfonts/hyped_kit.sf2', (1, 2)),\n",
       " ('../test_soundfonts/good_soundfonts/UltimateDrums.sf2', (0, 1)),\n",
       " ('../test_soundfonts/good_soundfonts/UltimateDrums.sf2', (0, 2)),\n",
       " ('../test_soundfonts/good_soundfonts/UltimateDrums.sf2', (1, 2))]"
      ]
     },
     "execution_count": 90,
     "metadata": {},
     "output_type": "execute_result"
    }
   ],
   "source": [
    "list(itertools.product(sfs,voice_idx))"
   ]
  },
  {
   "cell_type": "code",
   "execution_count": null,
   "metadata": {},
   "outputs": [],
   "source": [
    "# 15000 \n",
    "# CPU times: user 25min 20s, sys: 1min 46s, total: 27min 7s\n",
    "# Wall time: 27min 24s"
   ]
  }
 ],
 "metadata": {
  "kernelspec": {
   "display_name": "torch_thesis",
   "language": "python",
   "name": "torch_thesis"
  },
  "language_info": {
   "codemirror_mode": {
    "name": "ipython",
    "version": 3
   },
   "file_extension": ".py",
   "mimetype": "text/x-python",
   "name": "python",
   "nbconvert_exporter": "python",
   "pygments_lexer": "ipython3",
   "version": "3.6.13"
  }
 },
 "nbformat": 4,
 "nbformat_minor": 4
}
