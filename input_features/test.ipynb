{
 "cells": [
  {
   "cell_type": "code",
   "execution_count": 1,
   "metadata": {},
   "outputs": [],
   "source": [
    "import sys\n",
    "sys.path.append('../')\n",
    "\n",
    "\n",
    "import os\n",
    "import pickle\n",
    "import numpy as np\n",
    "\n",
    "from onsets import read_audio, onset_detection_fn, reduce_frequency_bands_in_spectrogram,get_onset_detect,get_grid_timestamps,map_onsets_to_grid"
   ]
  },
  {
   "cell_type": "code",
   "execution_count": 2,
   "metadata": {},
   "outputs": [
    {
     "name": "stdout",
     "output_type": "stream",
     "text": [
      "../processed_dataset/Processed_On_27_04_2021_at_19_04_hrs/GrooveMIDI_processed_train/hvo_data.obj\n"
     ]
    },
    {
     "data": {
      "text/html": [
       "<div style=\"display: table;\"><div style=\"display: table-row;\"><div style=\"display: table-cell;\"><b title=\"bokeh.plotting.figure.Figure\">Figure</b>(</div><div style=\"display: table-cell;\">id&nbsp;=&nbsp;'1002', <span id=\"1285\" style=\"cursor: pointer;\">&hellip;)</span></div></div><div class=\"1284\" style=\"display: none;\"><div style=\"display: table-cell;\"></div><div style=\"display: table-cell;\">above&nbsp;=&nbsp;[],</div></div><div class=\"1284\" style=\"display: none;\"><div style=\"display: table-cell;\"></div><div style=\"display: table-cell;\">align&nbsp;=&nbsp;'start',</div></div><div class=\"1284\" style=\"display: none;\"><div style=\"display: table-cell;\"></div><div style=\"display: table-cell;\">aspect_ratio&nbsp;=&nbsp;None,</div></div><div class=\"1284\" style=\"display: none;\"><div style=\"display: table-cell;\"></div><div style=\"display: table-cell;\">aspect_scale&nbsp;=&nbsp;1,</div></div><div class=\"1284\" style=\"display: none;\"><div style=\"display: table-cell;\"></div><div style=\"display: table-cell;\">background&nbsp;=&nbsp;None,</div></div><div class=\"1284\" style=\"display: none;\"><div style=\"display: table-cell;\"></div><div style=\"display: table-cell;\">background_fill_alpha&nbsp;=&nbsp;1.0,</div></div><div class=\"1284\" style=\"display: none;\"><div style=\"display: table-cell;\"></div><div style=\"display: table-cell;\">background_fill_color&nbsp;=&nbsp;'#ffffff',</div></div><div class=\"1284\" style=\"display: none;\"><div style=\"display: table-cell;\"></div><div style=\"display: table-cell;\">below&nbsp;=&nbsp;[LinearAxis(id='1011', ...)],</div></div><div class=\"1284\" style=\"display: none;\"><div style=\"display: table-cell;\"></div><div style=\"display: table-cell;\">border_fill_alpha&nbsp;=&nbsp;1.0,</div></div><div class=\"1284\" style=\"display: none;\"><div style=\"display: table-cell;\"></div><div style=\"display: table-cell;\">border_fill_color&nbsp;=&nbsp;'#ffffff',</div></div><div class=\"1284\" style=\"display: none;\"><div style=\"display: table-cell;\"></div><div style=\"display: table-cell;\">center&nbsp;=&nbsp;[Grid(id='1014', ...), Grid(id='1018', ...), Span(id='1052', ...), Span(id='1053', ...), Span(id='1054', ...), Span(id='1055', ...), Span(id='1056', ...), Span(id='1057', ...), Span(id='1058', ...), Span(id='1059', ...), Span(id='1060', ...), Span(id='1061', ...), Span(id='1062', ...), Span(id='1063', ...), Span(id='1064', ...), Span(id='1065', ...), Span(id='1066', ...), Span(id='1067', ...), Span(id='1068', ...), Span(id='1069', ...), Span(id='1070', ...), Span(id='1071', ...), Span(id='1072', ...), Span(id='1073', ...), Span(id='1074', ...), Span(id='1075', ...), Span(id='1076', ...), Span(id='1077', ...), Span(id='1078', ...), Span(id='1079', ...), Span(id='1080', ...), Span(id='1081', ...), Span(id='1082', ...), Span(id='1083', ...), Span(id='1084', ...), Span(id='1085', ...), Span(id='1086', ...), Span(id='1087', ...), Span(id='1088', ...), Span(id='1089', ...), Label(id='1090', ...), Label(id='1091', ...)],</div></div><div class=\"1284\" style=\"display: none;\"><div style=\"display: table-cell;\"></div><div style=\"display: table-cell;\">css_classes&nbsp;=&nbsp;[],</div></div><div class=\"1284\" style=\"display: none;\"><div style=\"display: table-cell;\"></div><div style=\"display: table-cell;\">disabled&nbsp;=&nbsp;False,</div></div><div class=\"1284\" style=\"display: none;\"><div style=\"display: table-cell;\"></div><div style=\"display: table-cell;\">extra_x_ranges&nbsp;=&nbsp;{},</div></div><div class=\"1284\" style=\"display: none;\"><div style=\"display: table-cell;\"></div><div style=\"display: table-cell;\">extra_y_ranges&nbsp;=&nbsp;{},</div></div><div class=\"1284\" style=\"display: none;\"><div style=\"display: table-cell;\"></div><div style=\"display: table-cell;\">frame_height&nbsp;=&nbsp;None,</div></div><div class=\"1284\" style=\"display: none;\"><div style=\"display: table-cell;\"></div><div style=\"display: table-cell;\">frame_width&nbsp;=&nbsp;None,</div></div><div class=\"1284\" style=\"display: none;\"><div style=\"display: table-cell;\"></div><div style=\"display: table-cell;\">height&nbsp;=&nbsp;400,</div></div><div class=\"1284\" style=\"display: none;\"><div style=\"display: table-cell;\"></div><div style=\"display: table-cell;\">height_policy&nbsp;=&nbsp;'auto',</div></div><div class=\"1284\" style=\"display: none;\"><div style=\"display: table-cell;\"></div><div style=\"display: table-cell;\">hidpi&nbsp;=&nbsp;True,</div></div><div class=\"1284\" style=\"display: none;\"><div style=\"display: table-cell;\"></div><div style=\"display: table-cell;\">inner_height&nbsp;=&nbsp;0,</div></div><div class=\"1284\" style=\"display: none;\"><div style=\"display: table-cell;\"></div><div style=\"display: table-cell;\">inner_width&nbsp;=&nbsp;0,</div></div><div class=\"1284\" style=\"display: none;\"><div style=\"display: table-cell;\"></div><div style=\"display: table-cell;\">js_event_callbacks&nbsp;=&nbsp;{},</div></div><div class=\"1284\" style=\"display: none;\"><div style=\"display: table-cell;\"></div><div style=\"display: table-cell;\">js_property_callbacks&nbsp;=&nbsp;{},</div></div><div class=\"1284\" style=\"display: none;\"><div style=\"display: table-cell;\"></div><div style=\"display: table-cell;\">left&nbsp;=&nbsp;[LinearAxis(id='1015', ...)],</div></div><div class=\"1284\" style=\"display: none;\"><div style=\"display: table-cell;\"></div><div style=\"display: table-cell;\">lod_factor&nbsp;=&nbsp;10,</div></div><div class=\"1284\" style=\"display: none;\"><div style=\"display: table-cell;\"></div><div style=\"display: table-cell;\">lod_interval&nbsp;=&nbsp;300,</div></div><div class=\"1284\" style=\"display: none;\"><div style=\"display: table-cell;\"></div><div style=\"display: table-cell;\">lod_threshold&nbsp;=&nbsp;2000,</div></div><div class=\"1284\" style=\"display: none;\"><div style=\"display: table-cell;\"></div><div style=\"display: table-cell;\">lod_timeout&nbsp;=&nbsp;500,</div></div><div class=\"1284\" style=\"display: none;\"><div style=\"display: table-cell;\"></div><div style=\"display: table-cell;\">margin&nbsp;=&nbsp;(0, 0, 0, 0),</div></div><div class=\"1284\" style=\"display: none;\"><div style=\"display: table-cell;\"></div><div style=\"display: table-cell;\">match_aspect&nbsp;=&nbsp;False,</div></div><div class=\"1284\" style=\"display: none;\"><div style=\"display: table-cell;\"></div><div style=\"display: table-cell;\">max_height&nbsp;=&nbsp;None,</div></div><div class=\"1284\" style=\"display: none;\"><div style=\"display: table-cell;\"></div><div style=\"display: table-cell;\">max_width&nbsp;=&nbsp;None,</div></div><div class=\"1284\" style=\"display: none;\"><div style=\"display: table-cell;\"></div><div style=\"display: table-cell;\">min_border&nbsp;=&nbsp;5,</div></div><div class=\"1284\" style=\"display: none;\"><div style=\"display: table-cell;\"></div><div style=\"display: table-cell;\">min_border_bottom&nbsp;=&nbsp;None,</div></div><div class=\"1284\" style=\"display: none;\"><div style=\"display: table-cell;\"></div><div style=\"display: table-cell;\">min_border_left&nbsp;=&nbsp;None,</div></div><div class=\"1284\" style=\"display: none;\"><div style=\"display: table-cell;\"></div><div style=\"display: table-cell;\">min_border_right&nbsp;=&nbsp;None,</div></div><div class=\"1284\" style=\"display: none;\"><div style=\"display: table-cell;\"></div><div style=\"display: table-cell;\">min_border_top&nbsp;=&nbsp;None,</div></div><div class=\"1284\" style=\"display: none;\"><div style=\"display: table-cell;\"></div><div style=\"display: table-cell;\">min_height&nbsp;=&nbsp;None,</div></div><div class=\"1284\" style=\"display: none;\"><div style=\"display: table-cell;\"></div><div style=\"display: table-cell;\">min_width&nbsp;=&nbsp;None,</div></div><div class=\"1284\" style=\"display: none;\"><div style=\"display: table-cell;\"></div><div style=\"display: table-cell;\">name&nbsp;=&nbsp;None,</div></div><div class=\"1284\" style=\"display: none;\"><div style=\"display: table-cell;\"></div><div style=\"display: table-cell;\">outer_height&nbsp;=&nbsp;0,</div></div><div class=\"1284\" style=\"display: none;\"><div style=\"display: table-cell;\"></div><div style=\"display: table-cell;\">outer_width&nbsp;=&nbsp;0,</div></div><div class=\"1284\" style=\"display: none;\"><div style=\"display: table-cell;\"></div><div style=\"display: table-cell;\">outline_line_alpha&nbsp;=&nbsp;1.0,</div></div><div class=\"1284\" style=\"display: none;\"><div style=\"display: table-cell;\"></div><div style=\"display: table-cell;\">outline_line_cap&nbsp;=&nbsp;'butt',</div></div><div class=\"1284\" style=\"display: none;\"><div style=\"display: table-cell;\"></div><div style=\"display: table-cell;\">outline_line_color&nbsp;=&nbsp;'#e5e5e5',</div></div><div class=\"1284\" style=\"display: none;\"><div style=\"display: table-cell;\"></div><div style=\"display: table-cell;\">outline_line_dash&nbsp;=&nbsp;[],</div></div><div class=\"1284\" style=\"display: none;\"><div style=\"display: table-cell;\"></div><div style=\"display: table-cell;\">outline_line_dash_offset&nbsp;=&nbsp;0,</div></div><div class=\"1284\" style=\"display: none;\"><div style=\"display: table-cell;\"></div><div style=\"display: table-cell;\">outline_line_join&nbsp;=&nbsp;'bevel',</div></div><div class=\"1284\" style=\"display: none;\"><div style=\"display: table-cell;\"></div><div style=\"display: table-cell;\">outline_line_width&nbsp;=&nbsp;1,</div></div><div class=\"1284\" style=\"display: none;\"><div style=\"display: table-cell;\"></div><div style=\"display: table-cell;\">output_backend&nbsp;=&nbsp;'canvas',</div></div><div class=\"1284\" style=\"display: none;\"><div style=\"display: table-cell;\"></div><div style=\"display: table-cell;\">renderers&nbsp;=&nbsp;[GlyphRenderer(id='1038', ...)],</div></div><div class=\"1284\" style=\"display: none;\"><div style=\"display: table-cell;\"></div><div style=\"display: table-cell;\">reset_policy&nbsp;=&nbsp;'standard',</div></div><div class=\"1284\" style=\"display: none;\"><div style=\"display: table-cell;\"></div><div style=\"display: table-cell;\">right&nbsp;=&nbsp;[],</div></div><div class=\"1284\" style=\"display: none;\"><div style=\"display: table-cell;\"></div><div style=\"display: table-cell;\">sizing_mode&nbsp;=&nbsp;None,</div></div><div class=\"1284\" style=\"display: none;\"><div style=\"display: table-cell;\"></div><div style=\"display: table-cell;\">subscribed_events&nbsp;=&nbsp;[],</div></div><div class=\"1284\" style=\"display: none;\"><div style=\"display: table-cell;\"></div><div style=\"display: table-cell;\">syncable&nbsp;=&nbsp;True,</div></div><div class=\"1284\" style=\"display: none;\"><div style=\"display: table-cell;\"></div><div style=\"display: table-cell;\">tags&nbsp;=&nbsp;[],</div></div><div class=\"1284\" style=\"display: none;\"><div style=\"display: table-cell;\"></div><div style=\"display: table-cell;\">title&nbsp;=&nbsp;Title(id='1041', ...),</div></div><div class=\"1284\" style=\"display: none;\"><div style=\"display: table-cell;\"></div><div style=\"display: table-cell;\">title_location&nbsp;=&nbsp;'above',</div></div><div class=\"1284\" style=\"display: none;\"><div style=\"display: table-cell;\"></div><div style=\"display: table-cell;\">toolbar&nbsp;=&nbsp;Toolbar(id='1025', ...),</div></div><div class=\"1284\" style=\"display: none;\"><div style=\"display: table-cell;\"></div><div style=\"display: table-cell;\">toolbar_location&nbsp;=&nbsp;'right',</div></div><div class=\"1284\" style=\"display: none;\"><div style=\"display: table-cell;\"></div><div style=\"display: table-cell;\">toolbar_sticky&nbsp;=&nbsp;True,</div></div><div class=\"1284\" style=\"display: none;\"><div style=\"display: table-cell;\"></div><div style=\"display: table-cell;\">visible&nbsp;=&nbsp;True,</div></div><div class=\"1284\" style=\"display: none;\"><div style=\"display: table-cell;\"></div><div style=\"display: table-cell;\">width&nbsp;=&nbsp;800,</div></div><div class=\"1284\" style=\"display: none;\"><div style=\"display: table-cell;\"></div><div style=\"display: table-cell;\">width_policy&nbsp;=&nbsp;'auto',</div></div><div class=\"1284\" style=\"display: none;\"><div style=\"display: table-cell;\"></div><div style=\"display: table-cell;\">x_range&nbsp;=&nbsp;DataRange1d(id='1003', ...),</div></div><div class=\"1284\" style=\"display: none;\"><div style=\"display: table-cell;\"></div><div style=\"display: table-cell;\">x_scale&nbsp;=&nbsp;LinearScale(id='1007', ...),</div></div><div class=\"1284\" style=\"display: none;\"><div style=\"display: table-cell;\"></div><div style=\"display: table-cell;\">y_range&nbsp;=&nbsp;DataRange1d(id='1005', ...),</div></div><div class=\"1284\" style=\"display: none;\"><div style=\"display: table-cell;\"></div><div style=\"display: table-cell;\">y_scale&nbsp;=&nbsp;LinearScale(id='1009', ...))</div></div></div>\n",
       "<script>\n",
       "(function() {\n",
       "  var expanded = false;\n",
       "  var ellipsis = document.getElementById(\"1285\");\n",
       "  ellipsis.addEventListener(\"click\", function() {\n",
       "    var rows = document.getElementsByClassName(\"1284\");\n",
       "    for (var i = 0; i < rows.length; i++) {\n",
       "      var el = rows[i];\n",
       "      el.style.display = expanded ? \"none\" : \"table-row\";\n",
       "    }\n",
       "    ellipsis.innerHTML = expanded ? \"&hellip;)\" : \"&lsaquo;&lsaquo;&lsaquo;\";\n",
       "    expanded = !expanded;\n",
       "  });\n",
       "})();\n",
       "</script>\n"
      ],
      "text/plain": [
       "Figure(id='1002', ...)"
      ]
     },
     "execution_count": 2,
     "metadata": {},
     "output_type": "execute_result"
    }
   ],
   "source": [
    "source_path = \"../processed_dataset/Processed_On_27_04_2021_at_19_04_hrs\"\n",
    "print(os.path.join(source_path, \"GrooveMIDI_processed_train\", \"hvo_data.obj\"))\n",
    "train_file = open(os.path.join(source_path, \"GrooveMIDI_processed_train\", \"hvo_sequence_data.obj\"),'rb')\n",
    "train_set = pickle.load(train_file)\n",
    "dataset_size = len(train_set)\n",
    "# ix =  int(np.random.random_sample()*dataset_size)\n",
    "example = train_set[52] # 4-4 120 bpm 2 bars\n",
    "example.to_html_plot(show_figure=True)"
   ]
  },
  {
   "cell_type": "code",
   "execution_count": 3,
   "metadata": {},
   "outputs": [
    {
     "name": "stderr",
     "output_type": "stream",
     "text": [
      "../hvo_sequence/hvo_seq.py:92: UserWarning: drum_mapping is not specified\n",
      "  warnings.warn(\"drum_mapping is not specified\")\n"
     ]
    }
   ],
   "source": [
    "sr=44100\n",
    "audio_file_path = \"./misc/temp.wav\"\n",
    "\n",
    "# IN ORDER TO CALC HOP SIZE\n",
    "FRAME_INTERVAL = 0.01  # s\n",
    "\n",
    "x, sr = read_audio(audio_file_path, mono=True, sr=sr)\n",
    "x /= np.max(np.abs(x))\n",
    "\n",
    "n_fft= 1024\n",
    "f_win_size = 1024\n",
    "f_hop_size = int(round(FRAME_INTERVAL * sr))\n",
    "f_bins_per_octave =16\n",
    "f_octaves = 9\n",
    "f_fmin = 40\n",
    "mean_filter_size = 22\n",
    "\n",
    "\n",
    "\n",
    "od_fun, logf_stft, f_cq = onset_detection_fn(x,\n",
    "                                             f_win_size,\n",
    "                                             f_hop_size,\n",
    "                                             f_bins_per_octave,\n",
    "                                             f_octaves,\n",
    "                                             f_fmin,\n",
    "                                             sr,\n",
    "                                             mean_filter_size)\n",
    "\n",
    "mb_onset_strength = od_fun\n",
    "\n",
    "c_freq = [55, 90, 138, 175, 350, 6000,8500,12500]                      # Perfe center frequencies\n",
    "mb_onset_strength = reduce_frequency_bands_in_spectrogram(c_freq, f_cq, mb_onset_strength)\n",
    "mb_onset_detect = get_onset_detect(mb_onset_strength)\n",
    "grid = get_grid_timestamps(n_bars = 2, time_signature_numerator = 4, \n",
    "                                      time_signature_denominator = 4, beat_division_factors = [4],qpm = 120)\n",
    "\n",
    "onsets_grid, strength_grid = map_onsets_to_grid(grid, mb_onset_strength, mb_onset_detect, n_fft=n_fft, hop_length = f_hop_size,sr=sr)"
   ]
  },
  {
   "cell_type": "code",
   "execution_count": 4,
   "metadata": {},
   "outputs": [
    {
     "name": "stdout",
     "output_type": "stream",
     "text": [
      "[[ 0.33  0.33  0.25  0.25  0.41  0.33  0.17  0.17]\n",
      " [ 0.37  0.37 -0.11  0.    0.05  0.37  0.21  0.37]\n",
      " [ 0.    0.    0.    0.    0.    0.    0.33  0.41]\n",
      " [ 0.    0.    0.    0.   -0.43  0.   -0.27  0.29]\n",
      " [ 0.49  0.49  0.09  0.33  0.01  0.25  0.41  0.25]\n",
      " [ 0.29  0.29 -0.19  0.    0.   -0.35  0.    0.  ]\n",
      " [ 0.    0.    0.    0.    0.    0.    0.01  0.17]\n",
      " [ 0.    0.    0.    0.    0.    0.    0.    0.  ]\n",
      " [ 0.49  0.25  0.01  0.01  0.01  0.01  0.01  0.01]\n",
      " [ 0.05  0.13 -0.35  0.    0.    0.05  0.    0.  ]\n",
      " [ 0.    0.    0.   -0.07  0.    0.01  0.25  0.17]\n",
      " [ 0.    0.    0.    0.    0.    0.    0.    0.  ]\n",
      " [ 0.41  0.41  0.49  0.49  0.17  0.17  0.49  0.33]\n",
      " [ 0.21  0.29 -0.19  0.    0.    0.   -0.35 -0.43]\n",
      " [ 0.    0.    0.    0.    0.    0.25  0.25  0.41]\n",
      " [ 0.    0.21  0.21  0.21  0.21  0.    0.    0.  ]\n",
      " [ 0.41  0.41  0.17  0.17  0.17  0.17  0.17  0.17]\n",
      " [ 0.21  0.29 -0.27  0.    0.    0.    0.    0.  ]\n",
      " [ 0.    0.    0.    0.    0.    0.09  0.09  0.25]\n",
      " [ 0.    0.    0.    0.    0.    0.    0.    0.  ]\n",
      " [ 0.41  0.41  0.09  0.09  0.09  0.33  0.41  0.33]\n",
      " [ 0.21  0.29 -0.19  0.    0.   -0.43 -0.35  0.  ]\n",
      " [ 0.    0.    0.    0.    0.    0.17  0.17  0.33]\n",
      " [ 0.    0.    0.    0.    0.    0.    0.    0.  ]\n",
      " [ 0.25  0.25  0.01  0.01  0.01  0.01  0.09  0.01]\n",
      " [ 0.13  0.13 -0.35  0.    0.    0.    0.    0.  ]\n",
      " [ 0.    0.    0.    0.    0.    0.01  0.01  0.17]\n",
      " [ 0.    0.    0.    0.    0.    0.    0.    0.  ]\n",
      " [ 0.49  0.25  0.25  0.25 -0.07  0.41  0.49  0.17]\n",
      " [ 0.05  0.05 -0.43  0.    0.    0.    0.    0.  ]\n",
      " [ 0.    0.    0.    0.    0.    0.    0.09  0.25]\n",
      " [ 0.    0.21  0.21  0.21  0.21  0.29  0.29  0.29]\n",
      " [ 0.    0.    0.    0.    0.    0.    0.    0.  ]\n",
      " [ 0.    0.    0.    0.    0.    0.    0.    0.  ]]\n"
     ]
    }
   ],
   "source": [
    "print(np.round(onsets_grid,2))"
   ]
  },
  {
   "cell_type": "code",
   "execution_count": 5,
   "metadata": {},
   "outputs": [
    {
     "name": "stdout",
     "output_type": "stream",
     "text": [
      "[[0.98 0.96 0.53 0.49 0.45 0.6  0.88 0.86]\n",
      " [0.4  0.25 0.34 0.   0.27 0.7  0.82 0.22]\n",
      " [0.   0.   0.   0.   0.   0.   0.42 0.78]\n",
      " [0.   0.   0.   0.   0.18 0.   0.47 0.19]\n",
      " [0.92 0.82 0.95 0.8  0.51 0.91 0.93 0.19]\n",
      " [0.37 0.36 0.27 0.   0.   0.57 0.   0.  ]\n",
      " [0.   0.   0.   0.   0.   0.   0.64 0.65]\n",
      " [0.   0.   0.   0.   0.   0.   0.   0.  ]\n",
      " [0.65 0.76 0.8  0.63 0.35 0.42 0.16 0.3 ]\n",
      " [0.24 0.19 0.35 0.   0.   0.12 0.   0.  ]\n",
      " [0.   0.   0.   0.11 0.   0.28 0.38 0.93]\n",
      " [0.   0.   0.   0.   0.   0.   0.   0.  ]\n",
      " [0.87 0.78 0.64 0.68 0.87 0.66 0.78 0.28]\n",
      " [0.35 0.09 0.31 0.   0.   0.   0.45 0.2 ]\n",
      " [0.   0.   0.   0.   0.   0.12 0.68 0.66]\n",
      " [0.   0.12 0.18 0.22 0.21 0.   0.   0.  ]\n",
      " [0.84 0.77 0.8  0.63 0.36 0.41 0.17 0.31]\n",
      " [0.28 0.22 0.26 0.   0.   0.   0.   0.  ]\n",
      " [0.   0.   0.   0.   0.   0.14 0.52 0.43]\n",
      " [0.   0.   0.   0.   0.   0.   0.   0.  ]\n",
      " [0.87 0.8  0.71 0.75 0.85 1.   0.96 0.42]\n",
      " [0.37 0.16 0.33 0.   0.   0.71 0.59 0.  ]\n",
      " [0.   0.   0.   0.   0.   0.1  0.75 0.78]\n",
      " [0.   0.   0.   0.   0.   0.   0.   0.  ]\n",
      " [0.77 0.72 0.75 0.62 0.34 0.24 0.12 0.13]\n",
      " [0.35 0.35 0.37 0.   0.   0.   0.   0.  ]\n",
      " [0.   0.   0.   0.   0.   0.16 0.59 0.51]\n",
      " [0.   0.   0.   0.   0.   0.   0.   0.  ]\n",
      " [0.68 0.81 0.73 0.73 0.85 0.63 0.5  0.74]\n",
      " [0.37 0.33 0.38 0.   0.   0.   0.   0.  ]\n",
      " [0.   0.   0.   0.   0.   0.   0.23 0.26]\n",
      " [0.   0.33 0.46 0.49 0.42 0.29 0.2  0.23]\n",
      " [0.   0.   0.   0.   0.   0.   0.   0.  ]\n",
      " [0.   0.   0.   0.   0.   0.   0.   0.  ]]\n"
     ]
    }
   ],
   "source": [
    "print(np.round(strength_grid, 2))"
   ]
  },
  {
   "cell_type": "code",
   "execution_count": null,
   "metadata": {},
   "outputs": [],
   "source": []
  }
 ],
 "metadata": {
  "kernelspec": {
   "display_name": "torch_thesis",
   "language": "python",
   "name": "torch_thesis"
  },
  "language_info": {
   "codemirror_mode": {
    "name": "ipython",
    "version": 3
   },
   "file_extension": ".py",
   "mimetype": "text/x-python",
   "name": "python",
   "nbconvert_exporter": "python",
   "pygments_lexer": "ipython3",
   "version": "3.6.13"
  }
 },
 "nbformat": 4,
 "nbformat_minor": 4
}
