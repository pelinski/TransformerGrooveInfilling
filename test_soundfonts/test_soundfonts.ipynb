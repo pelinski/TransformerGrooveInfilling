{
 "cells": [
  {
   "cell_type": "code",
   "execution_count": 50,
   "metadata": {},
   "outputs": [],
   "source": [
    "import os\n",
    "import pickle\n",
    "import sys\n",
    "sys.path.append('../')\n",
    "import numpy as np\n",
    "import librosa\n",
    "import shutil\n",
    "\n",
    "from hvo_sequence.hvo_seq import HVO_Sequence\n"
   ]
  },
  {
   "cell_type": "code",
   "execution_count": 44,
   "metadata": {},
   "outputs": [
    {
     "name": "stdout",
     "output_type": "stream",
     "text": [
      "../processed_dataset/Processed_On_27_04_2021_at_19_04_hrs/GrooveMIDI_processed_train/hvo_data.obj\n"
     ]
    }
   ],
   "source": [
    "source_path = \"../processed_dataset/Processed_On_27_04_2021_at_19_04_hrs\"\n",
    "print(os.path.join(source_path, \"GrooveMIDI_processed_train\", \"hvo_data.obj\"))\n",
    "train_file = open(os.path.join(source_path, \"GrooveMIDI_processed_train\", \"hvo_sequence_data.obj\"),'rb')\n",
    "train_set = pickle.load(train_file)\n",
    "dataset_size = len(train_set)\n",
    "ix =  int(np.random.random_sample()*dataset_size)\n",
    "example = train_set[0]"
   ]
  },
  {
   "cell_type": "code",
   "execution_count": 45,
   "metadata": {},
   "outputs": [
    {
     "name": "stdout",
     "output_type": "stream",
     "text": [
      "['GoldDrums.sf2', '80sAcDanceDrums.sf2', 'HSAcousticPercussion.sf2', 'HipHop.sf2', 'AcousticKits 1&2.sf2', 'HOUSE2.sf2', 'phunked.sf2', 'AcousticKits 3&4.sf2', '.DS_Store', 'MelottiDrums.sf2', 'SJDrums.sf2', 'evandroDRM 2.sf2', 'Industrial Set.sf2', 'insane_kit.sf2', 'vinylism.sf2', 'DrumsBySlavo v1.0.sf2', 'Drums_n_Stuff.sf2', '7mb_vinyl_drums1.sf2', 'Talking_Drum.sf2', 'ROCK.sf2', 'StomperSet.sf2', 'Kit 09.sf2', 'Kit 08.sf2', 'GM Dance.sf2', 'Kit 06.sf2', 'Kit 07.sf2', 'PremierKit.sf2', 'VintageDrums.sf2', 'Kit 05.sf2', 'Industromatic.sf2', 'Kit 10.sf2', 'Kit 04.sf2', 'Kit 01.sf2', 'Kit 03.sf2', 'Kit 02.sf2', 'Dance Set.sf2', 'outlaw.sf2', 'X-StaticGoldmine.sf2', 'DRRP_RocketDrums.sf2', 'Chris_Percussion2.sf2', 'Techno Kits.sf2', 'kraze_kit.sf2', 'ElectricKit.sf2', 'hyped_kit.sf2', 'UltimateDrums.sf2', 'Dance Percussion.sf2', 'Alesis_DM5_Industrial_Set.sf2']\n"
     ]
    }
   ],
   "source": [
    "pack = 'pack2'\n",
    "sf_path_root = os.path.join('./soundfonts', pack)\n",
    "sf_list = os.listdir(sf_path_root)\n",
    "print(sf_list)"
   ]
  },
  {
   "cell_type": "code",
   "execution_count": 51,
   "metadata": {},
   "outputs": [
    {
     "name": "stdout",
     "output_type": "stream",
     "text": [
      "./soundfonts/pack2/GoldDrums.sf2\n",
      "./soundfonts/pack2/80sAcDanceDrums.sf2\n",
      "./soundfonts/pack2/HSAcousticPercussion.sf2\n",
      "./soundfonts/pack2/HipHop.sf2\n",
      "./soundfonts/pack2/AcousticKits 1&2.sf2\n",
      "./soundfonts/pack2/HOUSE2.sf2\n",
      "./soundfonts/pack2/phunked.sf2\n",
      "./soundfonts/pack2/AcousticKits 3&4.sf2\n",
      "./soundfonts/pack2/MelottiDrums.sf2\n",
      "./soundfonts/pack2/SJDrums.sf2\n",
      "./soundfonts/pack2/evandroDRM 2.sf2\n",
      "./soundfonts/pack2/Industrial Set.sf2\n",
      "./soundfonts/pack2/insane_kit.sf2\n",
      "./soundfonts/pack2/vinylism.sf2\n",
      "./soundfonts/pack2/DrumsBySlavo v1.0.sf2\n",
      "./soundfonts/pack2/Drums_n_Stuff.sf2\n",
      "./soundfonts/pack2/7mb_vinyl_drums1.sf2\n",
      "./soundfonts/pack2/Talking_Drum.sf2\n",
      "./soundfonts/pack2/ROCK.sf2\n",
      "./soundfonts/pack2/StomperSet.sf2\n",
      "./soundfonts/pack2/Kit 09.sf2\n",
      "./soundfonts/pack2/Kit 08.sf2\n",
      "./soundfonts/pack2/GM Dance.sf2\n",
      "./soundfonts/pack2/Kit 06.sf2\n",
      "./soundfonts/pack2/Kit 07.sf2\n",
      "./soundfonts/pack2/PremierKit.sf2\n",
      "./soundfonts/pack2/VintageDrums.sf2\n",
      "./soundfonts/pack2/Kit 05.sf2\n",
      "./soundfonts/pack2/Industromatic.sf2\n",
      "./soundfonts/pack2/Kit 10.sf2\n",
      "./soundfonts/pack2/Kit 04.sf2\n",
      "./soundfonts/pack2/Kit 01.sf2\n",
      "./soundfonts/pack2/Kit 03.sf2\n",
      "./soundfonts/pack2/Kit 02.sf2\n",
      "./soundfonts/pack2/Dance Set.sf2\n",
      "./soundfonts/pack2/outlaw.sf2\n",
      "./soundfonts/pack2/X-StaticGoldmine.sf2\n",
      "./soundfonts/pack2/DRRP_RocketDrums.sf2\n",
      "./soundfonts/pack2/Chris_Percussion2.sf2\n",
      "./soundfonts/pack2/Techno Kits.sf2\n",
      "./soundfonts/pack2/kraze_kit.sf2\n",
      "./soundfonts/pack2/ElectricKit.sf2\n",
      "./soundfonts/pack2/hyped_kit.sf2\n",
      "./soundfonts/pack2/UltimateDrums.sf2\n",
      "./soundfonts/pack2/Dance Percussion.sf2\n",
      "./soundfonts/pack2/Alesis_DM5_Industrial_Set.sf2\n"
     ]
    }
   ],
   "source": [
    "sounds_path = os.path.join('./sounds', pack)\n",
    "if not os.path.exists(sounds_path):\n",
    "    os.makedirs(sounds_path)\n",
    "\n",
    "for sf in sf_list:\n",
    "    sf_path = os.path.join(sf_path_root,sf)\n",
    "    sounds_path = os.path.join('./sounds', pack)\n",
    "    if sf.split('.')[0]==\"\": continue #.DS_Store \n",
    "    filename = os.path.join(sounds_path, sf.split('.')[-2]+'.wav')\n",
    "    print(sf_path)\n",
    "    audio = example.save_audio(filename=filename, sr=44100, sf_path = sf_path)\n",
    "    if len(librosa.onset.onset_detect(audio)) >1:\n",
    "        shutil.copy(sf_path, './good_soundfonts')\n",
    "        \n",
    "    "
   ]
  },
  {
   "cell_type": "code",
   "execution_count": null,
   "metadata": {},
   "outputs": [],
   "source": []
  },
  {
   "cell_type": "code",
   "execution_count": null,
   "metadata": {},
   "outputs": [],
   "source": []
  }
 ],
 "metadata": {
  "kernelspec": {
   "display_name": "torch_thesis",
   "language": "python",
   "name": "torch_thesis"
  },
  "language_info": {
   "codemirror_mode": {
    "name": "ipython",
    "version": 3
   },
   "file_extension": ".py",
   "mimetype": "text/x-python",
   "name": "python",
   "nbconvert_exporter": "python",
   "pygments_lexer": "ipython3",
   "version": "3.6.13"
  }
 },
 "nbformat": 4,
 "nbformat_minor": 4
}
