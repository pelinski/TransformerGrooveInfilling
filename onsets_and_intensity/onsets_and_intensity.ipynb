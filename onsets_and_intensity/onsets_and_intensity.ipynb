{
 "cells": [
  {
   "cell_type": "code",
   "execution_count": 2,
   "metadata": {},
   "outputs": [
    {
     "output_type": "stream",
     "name": "stdout",
     "text": [
      "<hvo_sequence.hvo_seq.HVO_Sequence object at 0x7fcfa4520c50>\n"
     ]
    }
   ],
   "source": [
    "import sys\n",
    "sys.path.append('../')\n",
    "\n",
    "from hvo_sequence.hvo_seq import HVO_Sequence\n",
    "from hvo_sequence.drum_mappings import ROLAND_REDUCED_MAPPING\n",
    "\n",
    "import numpy as np\n",
    "\n",
    "# Create an instance of a HVO_Sequence\n",
    "hvo_seq = HVO_Sequence(drum_mapping=ROLAND_REDUCED_MAPPING)\n",
    "\n",
    "# Add two time_signatures\n",
    "hvo_seq.add_time_signature(0, 4, 4, [4])\n",
    "hvo_seq.add_time_signature(13, 6, 8, [3,2])\n",
    "\n",
    "# Add two tempos\n",
    "hvo_seq.add_tempo(0, 50)\n",
    "hvo_seq.add_tempo(12, 20)  # Tempo Change at the beginning of second bar\n",
    "\n",
    "# Create a random hvo\n",
    "hits = np.random.randint(0, 2, (36, 9))\n",
    "vels = hits * np.random.rand(36, 9)\n",
    "offs = hits * (np.random.rand(36, 9) - 0.5)\n",
    "\n",
    "# Add hvo score to hvo_seq instance\n",
    "hvo_seq.hvo = np.concatenate((hits, vels, offs), axis=1)\n",
    "\n",
    "# Plot, synthesize and export to midi\n",
    "#hvo_seq.to_html_plot(show_figure=True)\n",
    "hvo_seq.save_audio()\n",
    "#hvo_seq.save_hvo_to_midi()\n",
    "\n",
    "# print(hvo_seq.steps_per_beat_per_segments)\n",
    "# print(hvo_seq.grid_lines)\n",
    "# print(hvo_seq.grid_lines.shape)\n",
    "# print(hvo_seq.n_beats_per_segments)\n",
    "# hvo_seq.major_and_minor_grid_lines\n",
    "\n",
    "print(hvo_seq)"
   ]
  }
 ],
 "metadata": {
  "kernelspec": {
   "display_name": "torch_thesis",
   "language": "python",
   "name": "torch_thesis"
  },
  "language_info": {
   "codemirror_mode": {
    "name": "ipython",
    "version": 3
   },
   "file_extension": ".py",
   "mimetype": "text/x-python",
   "name": "python",
   "nbconvert_exporter": "python",
   "pygments_lexer": "ipython3",
   "version": "3.6.13"
  }
 },
 "nbformat": 4,
 "nbformat_minor": 4
}