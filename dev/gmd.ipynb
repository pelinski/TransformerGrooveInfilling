{
 "cells": [
  {
   "cell_type": "code",
   "execution_count": 29,
   "metadata": {},
   "outputs": [],
   "source": [
    "import sys\n",
    "import pandas as pd\n",
    "import numpy as np\n",
    "sys.path.append('../../')\n",
    "metadata = '../../GrooveMIDI2HVO_PreProcessing/processed_dataset/Processed_On_21_07_2021_at_14_32_hrs/GrooveMIDI_processed_train/metadata.csv'\n",
    "df = pd.read_csv(metadata)"
   ]
  },
  {
   "cell_type": "code",
   "execution_count": 31,
   "metadata": {},
   "outputs": [
    {
     "data": {
      "text/html": [
       "<div>\n",
       "<style scoped>\n",
       "    .dataframe tbody tr th:only-of-type {\n",
       "        vertical-align: middle;\n",
       "    }\n",
       "\n",
       "    .dataframe tbody tr th {\n",
       "        vertical-align: top;\n",
       "    }\n",
       "\n",
       "    .dataframe thead th {\n",
       "        text-align: right;\n",
       "    }\n",
       "</style>\n",
       "<table border=\"1\" class=\"dataframe\">\n",
       "  <thead>\n",
       "    <tr style=\"text-align: right;\">\n",
       "      <th></th>\n",
       "      <th>Unnamed: 0</th>\n",
       "      <th>drummer</th>\n",
       "      <th>session</th>\n",
       "      <th>loop_id</th>\n",
       "      <th>master_id</th>\n",
       "      <th>style_primary</th>\n",
       "      <th>style_secondary</th>\n",
       "      <th>bpm</th>\n",
       "      <th>beat_type</th>\n",
       "      <th>time_signature</th>\n",
       "      <th>full_midi_filename</th>\n",
       "      <th>full_audio_filename</th>\n",
       "    </tr>\n",
       "  </thead>\n",
       "  <tbody>\n",
       "    <tr>\n",
       "      <th>0</th>\n",
       "      <td>0</td>\n",
       "      <td>drummer1</td>\n",
       "      <td>session1</td>\n",
       "      <td>drummer1/session1/100:000</td>\n",
       "      <td>drummer1/session1/100</td>\n",
       "      <td>neworleans</td>\n",
       "      <td>secondline</td>\n",
       "      <td>94</td>\n",
       "      <td>beat</td>\n",
       "      <td>4-4</td>\n",
       "      <td>drummer1/session1/100_neworleans-secondline_94...</td>\n",
       "      <td>drummer1/session1/100_neworleans-secondline_94...</td>\n",
       "    </tr>\n",
       "    <tr>\n",
       "      <th>1</th>\n",
       "      <td>1</td>\n",
       "      <td>drummer1</td>\n",
       "      <td>session1</td>\n",
       "      <td>drummer1/session1/100:000:001</td>\n",
       "      <td>drummer1/session1/100</td>\n",
       "      <td>neworleans</td>\n",
       "      <td>secondline</td>\n",
       "      <td>94</td>\n",
       "      <td>beat</td>\n",
       "      <td>4-4</td>\n",
       "      <td>drummer1/session1/100_neworleans-secondline_94...</td>\n",
       "      <td>drummer1/session1/100_neworleans-secondline_94...</td>\n",
       "    </tr>\n",
       "    <tr>\n",
       "      <th>2</th>\n",
       "      <td>2</td>\n",
       "      <td>drummer1</td>\n",
       "      <td>session1</td>\n",
       "      <td>drummer1/session1/100:000:001:002</td>\n",
       "      <td>drummer1/session1/100</td>\n",
       "      <td>neworleans</td>\n",
       "      <td>secondline</td>\n",
       "      <td>94</td>\n",
       "      <td>beat</td>\n",
       "      <td>4-4</td>\n",
       "      <td>drummer1/session1/100_neworleans-secondline_94...</td>\n",
       "      <td>drummer1/session1/100_neworleans-secondline_94...</td>\n",
       "    </tr>\n",
       "    <tr>\n",
       "      <th>3</th>\n",
       "      <td>3</td>\n",
       "      <td>drummer1</td>\n",
       "      <td>session1</td>\n",
       "      <td>drummer1/session1/100:000:001:002:003</td>\n",
       "      <td>drummer1/session1/100</td>\n",
       "      <td>neworleans</td>\n",
       "      <td>secondline</td>\n",
       "      <td>94</td>\n",
       "      <td>beat</td>\n",
       "      <td>4-4</td>\n",
       "      <td>drummer1/session1/100_neworleans-secondline_94...</td>\n",
       "      <td>drummer1/session1/100_neworleans-secondline_94...</td>\n",
       "    </tr>\n",
       "    <tr>\n",
       "      <th>4</th>\n",
       "      <td>4</td>\n",
       "      <td>drummer1</td>\n",
       "      <td>session1</td>\n",
       "      <td>drummer1/session1/100:000:001:002:003:004</td>\n",
       "      <td>drummer1/session1/100</td>\n",
       "      <td>neworleans</td>\n",
       "      <td>secondline</td>\n",
       "      <td>94</td>\n",
       "      <td>beat</td>\n",
       "      <td>4-4</td>\n",
       "      <td>drummer1/session1/100_neworleans-secondline_94...</td>\n",
       "      <td>drummer1/session1/100_neworleans-secondline_94...</td>\n",
       "    </tr>\n",
       "  </tbody>\n",
       "</table>\n",
       "</div>"
      ],
      "text/plain": [
       "   Unnamed: 0   drummer   session                                    loop_id  \\\n",
       "0           0  drummer1  session1                  drummer1/session1/100:000   \n",
       "1           1  drummer1  session1              drummer1/session1/100:000:001   \n",
       "2           2  drummer1  session1          drummer1/session1/100:000:001:002   \n",
       "3           3  drummer1  session1      drummer1/session1/100:000:001:002:003   \n",
       "4           4  drummer1  session1  drummer1/session1/100:000:001:002:003:004   \n",
       "\n",
       "               master_id style_primary style_secondary  bpm beat_type  \\\n",
       "0  drummer1/session1/100    neworleans      secondline   94      beat   \n",
       "1  drummer1/session1/100    neworleans      secondline   94      beat   \n",
       "2  drummer1/session1/100    neworleans      secondline   94      beat   \n",
       "3  drummer1/session1/100    neworleans      secondline   94      beat   \n",
       "4  drummer1/session1/100    neworleans      secondline   94      beat   \n",
       "\n",
       "  time_signature                                 full_midi_filename  \\\n",
       "0            4-4  drummer1/session1/100_neworleans-secondline_94...   \n",
       "1            4-4  drummer1/session1/100_neworleans-secondline_94...   \n",
       "2            4-4  drummer1/session1/100_neworleans-secondline_94...   \n",
       "3            4-4  drummer1/session1/100_neworleans-secondline_94...   \n",
       "4            4-4  drummer1/session1/100_neworleans-secondline_94...   \n",
       "\n",
       "                                 full_audio_filename  \n",
       "0  drummer1/session1/100_neworleans-secondline_94...  \n",
       "1  drummer1/session1/100_neworleans-secondline_94...  \n",
       "2  drummer1/session1/100_neworleans-secondline_94...  \n",
       "3  drummer1/session1/100_neworleans-secondline_94...  \n",
       "4  drummer1/session1/100_neworleans-secondline_94...  "
      ]
     },
     "execution_count": 31,
     "metadata": {},
     "output_type": "execute_result"
    }
   ],
   "source": [
    "#train_df = df.loc[df['split'] == 'train']\n",
    "train_df = df.loc[df['beat_type'] == 'beat']\n",
    "train_df = train_df.loc[train_df['time_signature'] == '4-4']\n",
    "train_df.head()"
   ]
  },
  {
   "cell_type": "code",
   "execution_count": 21,
   "metadata": {},
   "outputs": [],
   "source": [
    "train_df['style'] = train_df['style'].apply(lambda x: x.split('/')[0])\n"
   ]
  },
  {
   "cell_type": "code",
   "execution_count": 38,
   "metadata": {},
   "outputs": [],
   "source": [
    "train_df = train_df.groupby(by='style_primary')['loop_id'].agg('count')\n"
   ]
  },
  {
   "cell_type": "code",
   "execution_count": 40,
   "metadata": {},
   "outputs": [
    {
     "data": {
      "text/plain": [
       "16266"
      ]
     },
     "execution_count": 40,
     "metadata": {},
     "output_type": "execute_result"
    }
   ],
   "source": [
    "train_df.sum()"
   ]
  },
  {
   "cell_type": "code",
   "execution_count": 43,
   "metadata": {},
   "outputs": [],
   "source": [
    "percentage = train_df*100/train_df.sum()"
   ]
  },
  {
   "cell_type": "code",
   "execution_count": 48,
   "metadata": {},
   "outputs": [
    {
     "data": {
      "text/plain": [
       "style_primary\n",
       "afrobeat          4.8\n",
       "afrocuban         4.7\n",
       "blues             0.5\n",
       "country           0.7\n",
       "dance             3.4\n",
       "funk              9.7\n",
       "highlife          0.3\n",
       "hiphop            4.4\n",
       "jazz             12.8\n",
       "latin            17.0\n",
       "middleeastern     0.7\n",
       "neworleans        4.4\n",
       "pop               0.7\n",
       "punk              0.6\n",
       "reggae            1.0\n",
       "rock             32.5\n",
       "soul              1.7\n",
       "Name: loop_id, dtype: float64"
      ]
     },
     "execution_count": 48,
     "metadata": {},
     "output_type": "execute_result"
    }
   ],
   "source": [
    "percentage.apply(lambda x: np.round(x,1))"
   ]
  },
  {
   "cell_type": "code",
   "execution_count": null,
   "metadata": {},
   "outputs": [],
   "source": []
  }
 ],
 "metadata": {
  "kernelspec": {
   "display_name": "torch_thesis",
   "language": "python",
   "name": "torch_thesis"
  },
  "language_info": {
   "codemirror_mode": {
    "name": "ipython",
    "version": 3
   },
   "file_extension": ".py",
   "mimetype": "text/x-python",
   "name": "python",
   "nbconvert_exporter": "python",
   "pygments_lexer": "ipython3",
   "version": "3.6.13"
  }
 },
 "nbformat": 4,
 "nbformat_minor": 4
}
